{
  "nbformat": 4,
  "nbformat_minor": 0,
  "metadata": {
    "colab": {
      "provenance": [],
      "authorship_tag": "ABX9TyP1L8hqfhmo2tODd9IfmOJv",
      "include_colab_link": true
    },
    "kernelspec": {
      "name": "python3",
      "display_name": "Python 3"
    },
    "language_info": {
      "name": "python"
    }
  },
  "cells": [
    {
      "cell_type": "markdown",
      "metadata": {
        "id": "view-in-github",
        "colab_type": "text"
      },
      "source": [
        "<a href=\"https://colab.research.google.com/github/isuishi620/1-n_octave_analysis/blob/main/Untitled3.ipynb\" target=\"_parent\"><img src=\"https://colab.research.google.com/assets/colab-badge.svg\" alt=\"Open In Colab\"/></a>"
      ]
    },
    {
      "cell_type": "code",
      "source": [
        "import numpy as np\n",
        "from sklearn.neighbors import KernelDensity\n",
        "\n",
        "# 初期データの生成\n",
        "samples = 10000\n",
        "r_n = np.random.uniform(0, 2, samples)\n",
        "phi_n = np.random.uniform(0, 2 * np.pi, samples)\n",
        "x_n = np.array(r_n * np.sin(phi_n))\n",
        "\n",
        "# バッチサイズでデータを選択\n",
        "batch_size = 500\n",
        "data = np.random.choice(x_n, batch_size)\n",
        "\n",
        "# 手動でのKDE実装\n",
        "def kde(data, sigma, batch):\n",
        "    kde_values = np.zeros(batch)\n",
        "    for i in range(batch):\n",
        "        distances_squared = (data[i] - data) ** 2\n",
        "        kernel_values = np.exp(-distances_squared / (2 * sigma**2))\n",
        "        kde_values[i] = np.sum(kernel_values) / (batch - 1) / (np.sqrt(2 * np.pi) * sigma)\n",
        "    return kde_values\n",
        "\n",
        "# 手動でのKDE実装結果\n",
        "density_manual = kde(data, 2, batch_size)\n",
        "\n",
        "# Scikit-learnのKernelDensityを使用してKDEを計算\n",
        "kde_sklearn = KernelDensity(bandwidth=2, kernel='gaussian')\n",
        "kde_sklearn.fit(data[:, None])  # 2次元配列に変換\n",
        "log_density_sklearn = kde_sklearn.score_samples(data[:, None])\n",
        "density_sklearn = np.exp(log_density_sklearn)\n",
        "\n",
        "# 結果の比較\n",
        "comparison = np.allclose(density_manual, density_sklearn, atol=1e-5)\n",
        "\n",
        "density_manual[:5], density_sklearn[:5], comparison"
      ],
      "metadata": {
        "colab": {
          "base_uri": "https://localhost:8080/"
        },
        "id": "6v6ySzIKsaF0",
        "outputId": "7c604dbb-f176-4115-92fb-89a970006dd7"
      },
      "execution_count": 19,
      "outputs": [
        {
          "output_type": "execute_result",
          "data": {
            "text/plain": [
              "(array([0.16363747, 0.18585165, 0.16020422, 0.1653506 , 0.13065295]),\n",
              " array([0.16331019, 0.18547995, 0.15988382, 0.1650199 , 0.13039165]),\n",
              " False)"
            ]
          },
          "metadata": {},
          "execution_count": 19
        }
      ]
    },
    {
      "cell_type": "code",
      "source": [],
      "metadata": {
        "id": "yDROURAovgwF"
      },
      "execution_count": null,
      "outputs": []
    }
  ]
}